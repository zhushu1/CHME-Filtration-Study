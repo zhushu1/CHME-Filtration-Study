{
 "cells": [
  {
   "cell_type": "code",
   "execution_count": 1,
   "metadata": {
    "collapsed": true
   },
   "outputs": [],
   "source": [
    "import numpy as np\n",
    "%matplotlib inline\n",
    "from matplotlib import pyplot as plt"
   ]
  },
  {
   "cell_type": "code",
   "execution_count": 2,
   "metadata": {
    "collapsed": true
   },
   "outputs": [],
   "source": [
    "t=20. #h\n",
    "K=100\n",
    "dt=float(t)/float(K-1)\n",
    "t_grid=np.array([k*dt for k in range(K)])\n",
    "L=1. #m\n",
    "I=100\n",
    "dL=float(L)/float(I-1)\n",
    "L_grid=np.array([i*dL for i in range(I)])\n"
   ]
  },
  {
   "cell_type": "code",
   "execution_count": 3,
   "metadata": {
    "collapsed": true
   },
   "outputs": [],
   "source": [
    "v=10. #m/h\n",
    "e0=0.4\n",
    "ps=0.95\n",
    "ds=1.4 #mm\n",
    "rs=1000000. #g/m3\n",
    "a=0.1\n",
    "c1=1.145\n",
    "c2=0.45\n",
    "c3=1.2*10**(-3)\n",
    "c4=0.2\n",
    "su=1000. #g/m3\n",
    "x=1.5\n",
    "y=0.75\n",
    "S=6*(1-e0)/ps/ds\n",
    "z=c2*S**0.61/(v**0.24)             \n",
    "l0v=c1*S**1.35/(v**0.25)\n",
    "b=a/(S**0.65)"
   ]
  },
  {
   "cell_type": "code",
   "execution_count": 4,
   "metadata": {
    "collapsed": true
   },
   "outputs": [],
   "source": [
    "f=lambda c,s:-dL*(l0v*((1+b*(s/(rs*c3*c4*v))/e0)**x)*((1-(s/(rs*c3*c4*v))/e0)**y)*((1-s/su/v)**z))*c\n",
    "g=lambda c,s:dt*v*(l0v*((1+b*(s/(rs*c3*c4*v))/e0)**x)*((1-(s/(rs*c3*c4*v))/e0)**y)*((1-s/su/v)**z))*c\n"
   ]
  },
  {
   "cell_type": "code",
   "execution_count": 5,
   "metadata": {
    "collapsed": true
   },
   "outputs": [],
   "source": [
    "C=np.array([50 for k in range(0,K)])\n",
    "Sgm=np.array([0 for i in range(0,I)])\n"
   ]
  },
  {
   "cell_type": "code",
   "execution_count": 6,
   "metadata": {},
   "outputs": [
    {
     "name": "stdout",
     "output_type": "stream",
     "text": [
      "[[ -1.00000000e-06   1.00000000e+00   0.00000000e+00 ...,   0.00000000e+00\n",
      "    0.00000000e+00   0.00000000e+00]\n",
      " [  0.00000000e+00  -1.00000000e+00   1.00000000e+00 ...,   0.00000000e+00\n",
      "    0.00000000e+00   0.00000000e+00]\n",
      " [  0.00000000e+00   0.00000000e+00  -1.00000000e+00 ...,   0.00000000e+00\n",
      "    0.00000000e+00   0.00000000e+00]\n",
      " ..., \n",
      " [  0.00000000e+00   0.00000000e+00   0.00000000e+00 ...,  -1.00000000e+00\n",
      "    1.00000000e+00   0.00000000e+00]\n",
      " [  0.00000000e+00   0.00000000e+00   0.00000000e+00 ...,   0.00000000e+00\n",
      "   -1.00000000e+00   1.00000000e+00]\n",
      " [  0.00000000e+00   0.00000000e+00   0.00000000e+00 ...,   0.00000000e+00\n",
      "    0.00000000e+00  -1.00000000e-06]]\n",
      "[[  1.00000000e-06   0.00000000e+00   0.00000000e+00 ...,   0.00000000e+00\n",
      "    0.00000000e+00   0.00000000e+00]\n",
      " [  0.00000000e+00   1.00000000e+00   0.00000000e+00 ...,   0.00000000e+00\n",
      "    0.00000000e+00   0.00000000e+00]\n",
      " [  0.00000000e+00   0.00000000e+00   1.00000000e+00 ...,   0.00000000e+00\n",
      "    0.00000000e+00   0.00000000e+00]\n",
      " ..., \n",
      " [  0.00000000e+00   0.00000000e+00   0.00000000e+00 ...,   1.00000000e+00\n",
      "    0.00000000e+00   0.00000000e+00]\n",
      " [  0.00000000e+00   0.00000000e+00   0.00000000e+00 ...,   0.00000000e+00\n",
      "    1.00000000e+00   0.00000000e+00]\n",
      " [  0.00000000e+00   0.00000000e+00   0.00000000e+00 ...,   0.00000000e+00\n",
      "    0.00000000e+00   1.00000000e-06]]\n"
     ]
    }
   ],
   "source": [
    "A_c = np.diagflat([-0.000001]+[-1 for k in range(K-2)]+[-0.000001]) +\\\n",
    "      np.diagflat([1. for k in range(K-1)], 1)\n",
    "B_c = np.diagflat([0 for k in range(K)])\n",
    "A_s = np.diagflat([0.000001]+[1. for i in range(I-2)]+[0.000001])\n",
    "B_s= np.diagflat([1. for i in range(I)])\n",
    "print(A_c)\n",
    "print(A_s)"
   ]
  },
  {
   "cell_type": "code",
   "execution_count": 7,
   "metadata": {
    "collapsed": true
   },
   "outputs": [],
   "source": [
    "f=lambda c,s:-dL*(l0v*((1+b*(s/(rs*c3*c4*v))/e0)**x)*((1-(s/(rs*c3*c4*v))/e0)**y)*((1-s/su/v)**z))*c"
   ]
  },
  {
   "cell_type": "code",
   "execution_count": 8,
   "metadata": {
    "collapsed": true
   },
   "outputs": [],
   "source": [
    "f_vec = lambda C, Sgm: np.multiply(-dL, np.multiply(np.multiply(np.multiply(np.multiply(l0v,np.power(np.add(np.multiply(np.divide\n",
    "                       (np.divide(Sgm,np.multiply(np.multiply(np.multiply(rs,c3),c4),v)),e0),b),1),x)),np.power(np.subtract(1,np.divide\n",
    "                       (np.divide(Sgm,np.multiply(np.multiply(np.multiply(rs,c3),c4),v)),e0)),y)),np.power(np.subtract(1,np.divide(np.divide\n",
    "                       (Sgm,su),v)),z)),C))\n",
    "\n"
   ]
  },
  {
   "cell_type": "code",
   "execution_count": 9,
   "metadata": {
    "collapsed": true
   },
   "outputs": [],
   "source": [
    "g=lambda c,s:dt*v*(l0v*((1+b*(s/(rs*c3*c4*v))/e0)**x)*((1-(s/(rs*c3*c4*v))/e0)**y)*((1-s/su/v)**z))*c"
   ]
  },
  {
   "cell_type": "code",
   "execution_count": 10,
   "metadata": {
    "collapsed": true
   },
   "outputs": [],
   "source": [
    "g_vec = lambda C, Sgm: np.multiply(dt, np.multiply(v,np.multiply(np.multiply(np.multiply(np.multiply(l0v,np.power(np.add(np.multiply(np.divide\n",
    "                       (np.divide(Sgm,np.multiply(np.multiply(np.multiply(rs,c3),c4),v)),e0),b),1),x)),np.power(np.subtract(1,np.divide\n",
    "                       (np.divide(Sgm,np.multiply(np.multiply(np.multiply(rs,c3),c4),v)),e0)),y)),np.power(np.subtract(1,np.divide(np.divide\n",
    "                       (Sgm,su),v)),z)),C)))"
   ]
  },
  {
   "cell_type": "code",
   "execution_count": 11,
   "metadata": {},
   "outputs": [
    {
     "name": "stdout",
     "output_type": "stream",
     "text": [
      "-1.24723691723\n"
     ]
    }
   ],
   "source": [
    "print (f(C[0], Sgm[0]))"
   ]
  },
  {
   "cell_type": "code",
   "execution_count": 12,
   "metadata": {},
   "outputs": [
    {
     "name": "stdout",
     "output_type": "stream",
     "text": [
      "-1.24723691723\n"
     ]
    }
   ],
   "source": [
    "print (f(C[-1], Sgm[-1]))"
   ]
  },
  {
   "cell_type": "code",
   "execution_count": 13,
   "metadata": {},
   "outputs": [
    {
     "name": "stdout",
     "output_type": "stream",
     "text": [
      "[-1.24723692 -1.24723692 -1.24723692 -1.24723692 -1.24723692 -1.24723692\n",
      " -1.24723692 -1.24723692 -1.24723692 -1.24723692 -1.24723692 -1.24723692\n",
      " -1.24723692 -1.24723692 -1.24723692 -1.24723692 -1.24723692 -1.24723692\n",
      " -1.24723692 -1.24723692 -1.24723692 -1.24723692 -1.24723692 -1.24723692\n",
      " -1.24723692 -1.24723692 -1.24723692 -1.24723692 -1.24723692 -1.24723692\n",
      " -1.24723692 -1.24723692 -1.24723692 -1.24723692 -1.24723692 -1.24723692\n",
      " -1.24723692 -1.24723692 -1.24723692 -1.24723692 -1.24723692 -1.24723692\n",
      " -1.24723692 -1.24723692 -1.24723692 -1.24723692 -1.24723692 -1.24723692\n",
      " -1.24723692 -1.24723692 -1.24723692 -1.24723692 -1.24723692 -1.24723692\n",
      " -1.24723692 -1.24723692 -1.24723692 -1.24723692 -1.24723692 -1.24723692\n",
      " -1.24723692 -1.24723692 -1.24723692 -1.24723692 -1.24723692 -1.24723692\n",
      " -1.24723692 -1.24723692 -1.24723692 -1.24723692 -1.24723692 -1.24723692\n",
      " -1.24723692 -1.24723692 -1.24723692 -1.24723692 -1.24723692 -1.24723692\n",
      " -1.24723692 -1.24723692 -1.24723692 -1.24723692 -1.24723692 -1.24723692\n",
      " -1.24723692 -1.24723692 -1.24723692 -1.24723692 -1.24723692 -1.24723692\n",
      " -1.24723692 -1.24723692 -1.24723692 -1.24723692 -1.24723692 -1.24723692\n",
      " -1.24723692 -1.24723692 -1.24723692 -1.24723692]\n"
     ]
    }
   ],
   "source": [
    "print (f_vec(C, Sgm))"
   ]
  },
  {
   "cell_type": "code",
   "execution_count": 14,
   "metadata": {
    "collapsed": true
   },
   "outputs": [],
   "source": [
    "C_record = []\n",
    "Sgm_record = []\n",
    "\n",
    "C_record.append(C)\n",
    "Sgm_record.append(Sgm)\n",
    "\n",
    "for k in range(K):\n",
    "    Sgm_new = np.linalg.solve(A_s, B_s.dot(Sgm)+g_vec(C,Sgm))\n",
    "for i in range(I):\n",
    "    C_new = np.linalg.solve(A_c,B_c.dot(C)+f_vec(C,Sgm))\n",
    "    \n",
    "C = C_new\n",
    "Sgm = Sgm_new\n",
    "                                                                                                                                                     "
   ]
  },
  {
   "cell_type": "code",
   "execution_count": 15,
   "metadata": {},
   "outputs": [
    {
     "data": {
      "image/png": "[encoded data removed]",
      "text/plain": [
       "<matplotlib.figure.Figure at 0x10f96b4e0>"
      ]
     },
     "metadata": {},
     "output_type": "display_data"
    }
   ],
   "source": [
    "plt.plot(L_grid, C,'r')\n",
    "plt.plot(L_grid, Sgm,'y')\n",
    "plt.show()"
   ]
  },
  {
   "cell_type": "code",
   "execution_count": 16,
   "metadata": {},
   "outputs": [],
   "source": [
    "#definition of numerical parameters\n",
    "t=20. #h\n",
    "K=100\n",
    "dt=float(t)/float(K-1)\n",
    "t_grid=np.array([k*dt for k in range(K)])\n",
    "L=1. #m\n",
    "I=100\n",
    "dL=float(L)/float(I-1)\n",
    "L_grid=np.array([i*dL for i in range(I)])"
   ]
  },
  {
   "cell_type": "code",
   "execution_count": 17,
   "metadata": {
    "collapsed": true
   },
   "outputs": [],
   "source": [
    "v=10. #m/h\n",
    "e0=0.4\n",
    "ps=0.95\n",
    "ds=1.4 #mm\n",
    "rs=1000000. #g/m3\n",
    "a=0.1\n",
    "c1=1.145\n",
    "c2=0.45\n",
    "c3=1.2*10**(-3)\n",
    "c4=0.2\n",
    "su=1000. #g/m3\n",
    "x=1.5\n",
    "y=0.75\n",
    "S=6*(1-e0)/ps/ds\n",
    "z=c2*S**0.61/(v**0.24)             \n",
    "l0v=c1*S**1.35/(v**0.25)\n",
    "b=a/(S**0.65)\n",
    "nplot = 20"
   ]
  },
  {
   "cell_type": "code",
   "execution_count": 18,
   "metadata": {},
   "outputs": [
    {
     "name": "stdout",
     "output_type": "stream",
     "text": [
      "[[ 1. -1.  0. ...,  0.  0.  0.]\n",
      " [ 0.  1. -1. ...,  0.  0.  0.]\n",
      " [ 0.  0.  1. ...,  0.  0.  0.]\n",
      " ..., \n",
      " [ 0.  0.  0. ...,  1. -1.  0.]\n",
      " [ 0.  0.  0. ...,  0.  1. -1.]\n",
      " [ 0.  0.  0. ...,  0.  0.  1.]]\n",
      "[[ 0.  0.  0. ...,  0.  0.  0.]\n",
      " [ 0.  0.  0. ...,  0.  0.  0.]\n",
      " [ 0.  0.  0. ...,  0.  0.  0.]\n",
      " ..., \n",
      " [ 0.  0.  0. ...,  0.  0.  0.]\n",
      " [ 0.  0.  0. ...,  0.  0.  0.]\n",
      " [ 0.  0.  0. ...,  0.  0.  0.]]\n",
      "[[ 1.  0.  0. ...,  0.  0.  0.]\n",
      " [ 0.  1.  0. ...,  0.  0.  0.]\n",
      " [ 0.  0.  1. ...,  0.  0.  0.]\n",
      " ..., \n",
      " [ 0.  0.  0. ...,  1.  0.  0.]\n",
      " [ 0.  0.  0. ...,  0.  1.  0.]\n",
      " [ 0.  0.  0. ...,  0.  0.  1.]]\n",
      "[[ 1.  0.  0. ...,  0.  0.  0.]\n",
      " [ 0.  1.  0. ...,  0.  0.  0.]\n",
      " [ 0.  0.  1. ...,  0.  0.  0.]\n",
      " ..., \n",
      " [ 0.  0.  0. ...,  1.  0.  0.]\n",
      " [ 0.  0.  0. ...,  0.  1.  0.]\n",
      " [ 0.  0.  0. ...,  0.  0.  1.]]\n"
     ]
    }
   ],
   "source": [
    "#initialize matrices A, B and b array\n",
    "A_c = np.zeros((K-2,K-2))\n",
    "B_c = np.zeros((K-2,K-2))\n",
    "f = np.zeros((K-2))\n",
    "#define matrices A, B and b array\n",
    "for l in range(K-2):\n",
    "    if l==0:\n",
    "        A_c[l,:] = [1 if k==0 else -1 if k==1 else 0 for k in range(K-2)]\n",
    "        f[l] = 50. #boundary condition at i=1\n",
    "    elif l==K-3:\n",
    "        A_c[l,:] = [ 1 if k==K-3 else 0 for k in range(K-2)]\n",
    "        f[l] = 0. #boundary condition at i=N\n",
    "    else:\n",
    "        A_c[l,:] = [-1 if k==l+1 else 1 if k==l else 0 for k in range(K-2)]\n",
    "        \n",
    "print (A_c)\n",
    "print (B_c)\n",
    "\n",
    "A_s = np.zeros((I-2,I-2))\n",
    "B_s = np.zeros((I-2,I-2))\n",
    "g = np.zeros((I-2))\n",
    "\n",
    "for m in range(I-2):\n",
    "    if m==0:\n",
    "        A_s[m,:] = [1 if i==0 else 0 for i in range(I-2)]\n",
    "        B_s[m,:] = [1 if i==0 else 0 for i in range(I-2)]\n",
    "        g[m] = 0. #boundary condition at i=1\n",
    "    elif m==I-3:\n",
    "        A_s[m,:] = [0 if i==I-4 else 1 if i==I-3 else 0 for i in range(I-2)]\n",
    "        B_s[m,:] = [0 if i==I-4 else 1 if i==I-3 else 0 for i in range(I-2)]\n",
    "        g[m] = 0. #boundary condition at i=N\n",
    "    else:\n",
    "        A_s[m,:] = [0 if i==m+1 or i==m-1 else 1 if i==m else 0 for i in range(I-2)]\n",
    "        B_s[m,:] = [0 if i==m+1 or i==m-1 else 1 if i==m else 0 for i in range(I-2)]\n",
    "        \n",
    "print (A_s)\n",
    "print (B_s)"
   ]
  },
  {
   "cell_type": "code",
   "execution_count": 19,
   "metadata": {},
   "outputs": [
    {
     "data": {
      "text/plain": [
       "[<matplotlib.lines.Line2D at 0x1119db160>]"
      ]
     },
     "execution_count": 19,
     "metadata": {},
     "output_type": "execute_result"
    },
    {
     "data": {
      "image/png": "[encoded data removed]",
      "text/plain": [
       "<matplotlib.figure.Figure at 0x1118a3c88>"
      ]
     },
     "metadata": {},
     "output_type": "display_data"
    }
   ],
   "source": [
    "#initialize grid\n",
    "l_step = np.linspace(0,1,K)\n",
    "#initial condition\n",
    "c= np.asarray([50 if l==0 else 0 if l==1 else 50*np.exp(-25*l) for l in l_step ])\n",
    "#evaluate right hand side at t=0\n",
    "bb = A_c.dot(c[1:-1]) + b\n",
    "\n",
    "fig = plt.figure()\n",
    "plt.plot(l_step,c,linewidth=2)"
   ]
  },
  {
   "cell_type": "code",
   "execution_count": 20,
   "metadata": {},
   "outputs": [
    {
     "data": {
      "text/plain": [
       "<matplotlib.figure.Figure at 0x1119edb70>"
      ]
     },
     "metadata": {},
     "output_type": "display_data"
    }
   ],
   "source": [
    "filename = 'foo000.jpg';\n",
    "fig.set_tight_layout(True);\n",
    "plt.xlabel(\"x\")\n",
    "plt.ylabel(\"u\")\n",
    "plt.title(\"t = 0\")\n",
    "plt.savefig(filename)\n",
    "plt.clf()"
   ]
  },
  {
   "cell_type": "code",
   "execution_count": 21,
   "metadata": {},
   "outputs": [
    {
     "data": {
      "image/png": "[encoded data removed]",
      "text/plain": [
       "<matplotlib.figure.Figure at 0x11191d390>"
      ]
     },
     "metadata": {},
     "output_type": "display_data"
    },
    {
     "name": "stdout",
     "output_type": "stream",
     "text": [
      "1\n"
     ]
    },
    {
     "data": {
      "image/png": "[encoded data removed]",
      "text/plain": [
       "<matplotlib.figure.Figure at 0x11981abe0>"
      ]
     },
     "metadata": {},
     "output_type": "display_data"
    },
    {
     "name": "stdout",
     "output_type": "stream",
     "text": [
      "2\n"
     ]
    },
    {
     "data": {
      "image/png": "[encoded data removed]",
      "text/plain": [
       "<matplotlib.figure.Figure at 0x111aed4a8>"
      ]
     },
     "metadata": {},
     "output_type": "display_data"
    },
    {
     "name": "stdout",
     "output_type": "stream",
     "text": [
      "3\n"
     ]
    },
    {
     "data": {
      "image/png": "[encoded data removed]",
      "text/plain": [
       "<matplotlib.figure.Figure at 0x1198c0eb8>"
      ]
     },
     "metadata": {},
     "output_type": "display_data"
    },
    {
     "name": "stdout",
     "output_type": "stream",
     "text": [
      "4\n"
     ]
    },
    {
     "data": {
      "image/png": "[encoded data removed]",
      "text/plain": [
       "<matplotlib.figure.Figure at 0x119a61400>"
      ]
     },
     "metadata": {},
     "output_type": "display_data"
    },
    {
     "name": "stdout",
     "output_type": "stream",
     "text": [
      "5\n"
     ]
    }
   ],
   "source": [
    "w = 0\n",
    "for j in range(I):\n",
    "    \n",
    "    #find solution inside domain\n",
    "    c[1:-1] = np.linalg.solve(A_c,bb)\n",
    "    bb = B_c.dot(c[1:-1]) + b\n",
    "    if(j%nplot==0): #plot results every nplot timesteps\n",
    "        plt.plot(l_step,c,linewidth=2)\n",
    "        plt.ylim([0,50])\n",
    "        plt.xlabel(\"l\")\n",
    "        plt.ylabel(\"c\")\n",
    "        plt.title(\"t = %2.2f\"%(dt*(j+1)))\n",
    "        w += 1\n",
    "        plt.show()\n",
    "        print(w)"
   ]
  },
  {
   "cell_type": "code",
   "execution_count": null,
   "metadata": {
    "collapsed": true
   },
   "outputs": [],
   "source": []
  }
 ],
 "metadata": {
  "kernelspec": {
   "display_name": "Python 3",
   "language": "python",
   "name": "python3"
  },
  "language_info": {
   "codemirror_mode": {
    "name": "ipython",
    "version": 3
   },
   "file_extension": ".py",
   "mimetype": "text/x-python",
   "name": "python",
   "nbconvert_exporter": "python",
   "pygments_lexer": "ipython3",
   "version": "3.6.3"
  }
 },
 "nbformat": 4,
 "nbformat_minor": 2
}
