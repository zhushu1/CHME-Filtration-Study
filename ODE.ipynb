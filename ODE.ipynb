{
 "cells": [
  {
   "cell_type": "code",
   "execution_count": 1,
   "metadata": {
    "collapsed": true
   },
   "outputs": [],
   "source": [
    "%matplotlib inline\n",
    "import matplotlib.pyplot as plt\n",
    "import numpy as np\n",
    "from scipy.integrate import odeint\n",
    "from scipy.integrate import solve_bvp "
   ]
  },
  {
   "cell_type": "code",
   "execution_count": 2,
   "metadata": {
    "collapsed": true
   },
   "outputs": [],
   "source": [
    "#definition of numerical parameters\n",
    "t=20. #h\n",
    "K=100\n",
    "dt=float(t)/float(K-1)\n",
    "t_grid=np.array([k*dt for k in range(K)])\n",
    "L=1. #m\n",
    "I=100\n",
    "dL=float(L)/float(I-1)\n",
    "L_grid=np.array([i*dL for i in range(I)])"
   ]
  },
  {
   "cell_type": "code",
   "execution_count": 3,
   "metadata": {
    "collapsed": true
   },
   "outputs": [],
   "source": [
    "v=10. #m/h\n",
    "e0=0.4\n",
    "ps=0.95\n",
    "ds=1.4 #mm\n",
    "rs=1000000. #g/m3\n",
    "a=0.1\n",
    "c1=1.145\n",
    "c2=0.45\n",
    "c3=1.2*10**(-3)\n",
    "c4=0.2\n",
    "su=1000. #g/m3\n",
    "x=1.5\n",
    "y=0.75\n",
    "S=6*(1-e0)/ps/ds\n",
    "z=c2*S**0.61/(v**0.24)             \n",
    "l0v=c1*S**1.35/(v**0.25)\n",
    "b=a/(S**0.65)"
   ]
  },
  {
   "cell_type": "code",
   "execution_count": 4,
   "metadata": {},
   "outputs": [
    {
     "data": {
      "image/png": "[encoded data removed]",
      "text/plain": [
       "<matplotlib.figure.Figure at 0x150f6adf60>"
      ]
     },
     "metadata": {},
     "output_type": "display_data"
    }
   ],
   "source": [
    "def dcdl(c,l):\n",
    "    return -l0v*c\n",
    "l=np.linspace(0,1,100)\n",
    "c0=50\n",
    "c_output=odeint(dcdl,c0,l)\n",
    "plt.plot(l, c_output, 'r.', label='Integrated')\n",
    "plt.xlabel('Depth L (m)')\n",
    "plt.ylabel('Concentration C (g/m^3)')\n",
    "plt.legend()\n",
    "plt.show()\n"
   ]
  }
 ],
 "metadata": {
  "kernelspec": {
   "display_name": "Python 3",
   "language": "python",
   "name": "python3"
  },
  "language_info": {
   "codemirror_mode": {
    "name": "ipython",
    "version": 3
   },
   "file_extension": ".py",
   "mimetype": "text/x-python",
   "name": "python",
   "nbconvert_exporter": "python",
   "pygments_lexer": "ipython3",
   "version": "3.6.3"
  }
 },
 "nbformat": 4,
 "nbformat_minor": 2
}
